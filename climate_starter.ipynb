{
 "cells": [
  {
   "cell_type": "code",
   "execution_count": 1,
   "metadata": {},
   "outputs": [],
   "source": [
    "%matplotlib inline\n",
    "from matplotlib import style\n",
    "style.use('fivethirtyeight')\n",
    "import matplotlib.pyplot as plt"
   ]
  },
  {
   "cell_type": "code",
   "execution_count": 2,
   "metadata": {},
   "outputs": [],
   "source": [
    "import numpy as np\n",
    "import pandas as pd"
   ]
  },
  {
   "cell_type": "code",
   "execution_count": 3,
   "metadata": {},
   "outputs": [],
   "source": [
    "import datetime as dt"
   ]
  },
  {
   "cell_type": "markdown",
   "metadata": {},
   "source": [
    "# Reflect Tables into SQLAlchemy ORM"
   ]
  },
  {
   "cell_type": "code",
   "execution_count": 4,
   "metadata": {},
   "outputs": [],
   "source": [
    "# Python SQL toolkit and Object Relational Mapper\n",
    "import sqlalchemy\n",
    "from sqlalchemy.ext.automap import automap_base\n",
    "from sqlalchemy.orm import Session\n",
    "from sqlalchemy import create_engine, func"
   ]
  },
  {
   "cell_type": "code",
   "execution_count": 5,
   "metadata": {},
   "outputs": [],
   "source": [
    "engine = create_engine(\"sqlite:///Resources/hawaii.sqlite\")"
   ]
  },
  {
   "cell_type": "code",
   "execution_count": 6,
   "metadata": {},
   "outputs": [],
   "source": [
    "# reflect an existing database into a new model\n",
    "Base = automap_base()\n",
    "# reflect the tables\n",
    "Base.prepare(engine, reflect=True)"
   ]
  },
  {
   "cell_type": "code",
   "execution_count": 7,
   "metadata": {},
   "outputs": [
    {
     "data": {
      "text/plain": [
       "['measurement', 'station']"
      ]
     },
     "execution_count": 7,
     "metadata": {},
     "output_type": "execute_result"
    }
   ],
   "source": [
    "# We can view all of the classes that automap found\n",
    "Base.classes.keys()"
   ]
  },
  {
   "cell_type": "code",
   "execution_count": 8,
   "metadata": {},
   "outputs": [],
   "source": [
    "# Save references to each table\n",
    "Measurement = Base.classes.measurement\n",
    "Station = Base.classes.station"
   ]
  },
  {
   "cell_type": "code",
   "execution_count": 9,
   "metadata": {},
   "outputs": [],
   "source": [
    "# Create our session (link) from Python to the DB\n",
    "session = Session(engine)"
   ]
  },
  {
   "cell_type": "code",
   "execution_count": 10,
   "metadata": {},
   "outputs": [
    {
     "name": "stdout",
     "output_type": "stream",
     "text": [
      "{'_sa_instance_state': <sqlalchemy.orm.state.InstanceState object at 0x000002E05F8337B8>, 'tobs': 66.0, 'date': '2010-01-01', 'id': 14960, 'prcp': 0.05, 'station': 'USC00511918'}\n",
      "{'_sa_instance_state': <sqlalchemy.orm.state.InstanceState object at 0x000002E05F833828>, 'tobs': 70.0, 'date': '2010-01-02', 'id': 14961, 'prcp': 0.0, 'station': 'USC00511918'}\n",
      "{'_sa_instance_state': <sqlalchemy.orm.state.InstanceState object at 0x000002E05F833898>, 'tobs': 75.0, 'date': '2010-01-03', 'id': 14962, 'prcp': 0.0, 'station': 'USC00511918'}\n",
      "{'_sa_instance_state': <sqlalchemy.orm.state.InstanceState object at 0x000002E05F833908>, 'tobs': 75.0, 'date': '2010-01-04', 'id': 14963, 'prcp': 0.0, 'station': 'USC00511918'}\n",
      "{'_sa_instance_state': <sqlalchemy.orm.state.InstanceState object at 0x000002E05F833978>, 'tobs': 75.0, 'date': '2010-01-05', 'id': 14964, 'prcp': 0.0, 'station': 'USC00511918'}\n"
     ]
    }
   ],
   "source": [
    "data = session.query(Measurement).limit(5).all\n",
    "data.__dict__\n",
    "for row in session.query(Measurement).filter(Measurement.date).order_by(Measurement.station).limit(5):\n",
    "    print(row.__dict__)"
   ]
  },
  {
   "cell_type": "markdown",
   "metadata": {},
   "source": [
    "# Exploratory Climate Analysis"
   ]
  },
  {
   "cell_type": "code",
   "execution_count": 11,
   "metadata": {},
   "outputs": [
    {
     "name": "stdout",
     "output_type": "stream",
     "text": [
      "2017-08-23 2016-08-23\n"
     ]
    },
    {
     "data": {
      "image/png": "[encoded data removed]",
      "text/plain": [
       "<Figure size 432x288 with 1 Axes>"
      ]
     },
     "metadata": {
      "needs_background": "light"
     },
     "output_type": "display_data"
    }
   ],
   "source": [
    "# Design a query to retrieve the last 12 months of precipitation data and plot the results\n",
    "data = session.query(Measurement.prcp, Measurement.date).filter(Measurement.date >= \"2010-01-01\").filter(Measurement.date <= '2010-12-31').all()\n",
    "\n",
    "# Calculate the date 1 year ago from the last data point in the database\n",
    "max_date = session.query(Measurement.date).order_by(Measurement.date.desc()).first()\n",
    "date = []\n",
    "date = list(max_date)\n",
    "for word in date:\n",
    "    year = word[0:4]\n",
    "    month = word[5:7]\n",
    "    day = word[8:10]\n",
    "max_date = dt.date(int(year), int(month), int(day))\n",
    "prev_year = max_date - dt.timedelta(days=365)\n",
    "print(f'{max_date} {prev_year}')\n",
    "\n",
    "# Perform a query to retrieve the data and precipitation scores\n",
    "prcp = []\n",
    "prcp_date = []\n",
    "prcp_data = session.query(Measurement.prcp, Measurement.date).\\\n",
    "    filter(Measurement.date >= prev_year).filter(Measurement.date <= max_date)\n",
    "\n",
    "for row in prcp_data:\n",
    "    prcp.append(row[0])\n",
    "    prcp_date.append(row[1])\n",
    "\n",
    "# Save the query results as a Pandas DataFrame and set the index to the date column\n",
    "df = pd.DataFrame({\"date\": prcp_date,\n",
    "                  \"precipitation\": prcp})\n",
    "\n",
    "df1 = df.dropna(how='any')\n",
    "#print(df1.head(100))\n",
    "df1 = df1.set_index(\"date\")\n",
    "\n",
    "# Sort the dataframe by date\n",
    "df1 = df1.sort_values(\"date\")\n",
    "\n",
    "#print(df1.head(150))\n",
    "\n",
    "# Use Pandas Plotting with Matplotlib to plot the data\n",
    "df1.plot(grid=True, rot=0)\n",
    "plt.show()"
   ]
  },
  {
   "cell_type": "markdown",
   "metadata": {},
   "source": [
    "![precipitation](Images/precipitation.png)"
   ]
  },
  {
   "cell_type": "code",
   "execution_count": 12,
   "metadata": {},
   "outputs": [
    {
     "data": {
      "text/html": [
       "<div>\n",
       "<style scoped>\n",
       "    .dataframe tbody tr th:only-of-type {\n",
       "        vertical-align: middle;\n",
       "    }\n",
       "\n",
       "    .dataframe tbody tr th {\n",
       "        vertical-align: top;\n",
       "    }\n",
       "\n",
       "    .dataframe thead th {\n",
       "        text-align: right;\n",
       "    }\n",
       "</style>\n",
       "<table border=\"1\" class=\"dataframe\">\n",
       "  <thead>\n",
       "    <tr style=\"text-align: right;\">\n",
       "      <th></th>\n",
       "      <th>precipitation</th>\n",
       "    </tr>\n",
       "  </thead>\n",
       "  <tbody>\n",
       "    <tr>\n",
       "      <th>count</th>\n",
       "      <td>2021.000000</td>\n",
       "    </tr>\n",
       "    <tr>\n",
       "      <th>mean</th>\n",
       "      <td>0.177279</td>\n",
       "    </tr>\n",
       "    <tr>\n",
       "      <th>std</th>\n",
       "      <td>0.461190</td>\n",
       "    </tr>\n",
       "    <tr>\n",
       "      <th>min</th>\n",
       "      <td>0.000000</td>\n",
       "    </tr>\n",
       "    <tr>\n",
       "      <th>25%</th>\n",
       "      <td>0.000000</td>\n",
       "    </tr>\n",
       "    <tr>\n",
       "      <th>50%</th>\n",
       "      <td>0.020000</td>\n",
       "    </tr>\n",
       "    <tr>\n",
       "      <th>75%</th>\n",
       "      <td>0.130000</td>\n",
       "    </tr>\n",
       "    <tr>\n",
       "      <th>max</th>\n",
       "      <td>6.700000</td>\n",
       "    </tr>\n",
       "  </tbody>\n",
       "</table>\n",
       "</div>"
      ],
      "text/plain": [
       "       precipitation\n",
       "count    2021.000000\n",
       "mean        0.177279\n",
       "std         0.461190\n",
       "min         0.000000\n",
       "25%         0.000000\n",
       "50%         0.020000\n",
       "75%         0.130000\n",
       "max         6.700000"
      ]
     },
     "execution_count": 12,
     "metadata": {},
     "output_type": "execute_result"
    }
   ],
   "source": [
    "# Use Pandas to calcualte the summary statistics for the precipitation data\n",
    "df.describe()"
   ]
  },
  {
   "cell_type": "markdown",
   "metadata": {},
   "source": [
    "![describe](Images/describe.png)"
   ]
  },
  {
   "cell_type": "code",
   "execution_count": 13,
   "metadata": {},
   "outputs": [
    {
     "data": {
      "text/plain": [
       "9"
      ]
     },
     "execution_count": 13,
     "metadata": {},
     "output_type": "execute_result"
    }
   ],
   "source": [
    "# Design a query to show how many stations are available in this dataset?\n",
    "station_count = session.query(Station).count()\n",
    "station_count"
   ]
  },
  {
   "cell_type": "code",
   "execution_count": 14,
   "metadata": {},
   "outputs": [
    {
     "name": "stdout",
     "output_type": "stream",
     "text": [
      "{'_sa_instance_state': <sqlalchemy.orm.state.InstanceState object at 0x000002E060C89C50>, 'latitude': 21.3152, 'station': 'USC00511918', 'longitude': -157.9992, 'name': 'HONOLULU OBSERVATORY 702.2, HI US', 'id': 8, 'elevation': 0.9}\n",
      "{'_sa_instance_state': <sqlalchemy.orm.state.InstanceState object at 0x000002E060C89CC0>, 'latitude': 21.4234, 'station': 'USC00513117', 'longitude': -157.8015, 'name': 'KANEOHE 838.1, HI US', 'id': 2, 'elevation': 14.6}\n",
      "{'_sa_instance_state': <sqlalchemy.orm.state.InstanceState object at 0x000002E060C89D30>, 'latitude': 21.5213, 'station': 'USC00514830', 'longitude': -157.8374, 'name': 'KUALOA RANCH HEADQUARTERS 886.9, HI US', 'id': 3, 'elevation': 7.0}\n",
      "{'_sa_instance_state': <sqlalchemy.orm.state.InstanceState object at 0x000002E060C89DA0>, 'latitude': 21.3331, 'station': 'USC00516128', 'longitude': -157.8025, 'name': 'MANOA LYON ARBO 785.2, HI US', 'id': 9, 'elevation': 152.4}\n",
      "{'_sa_instance_state': <sqlalchemy.orm.state.InstanceState object at 0x000002E060C89E10>, 'latitude': 21.3934, 'station': 'USC00517948', 'longitude': -157.9751, 'name': 'PEARL CITY, HI US', 'id': 4, 'elevation': 11.9}\n",
      "{'_sa_instance_state': <sqlalchemy.orm.state.InstanceState object at 0x000002E060C89E80>, 'latitude': 21.4992, 'station': 'USC00518838', 'longitude': -158.0111, 'name': 'UPPER WAHIAWA 874.3, HI US', 'id': 5, 'elevation': 306.6}\n",
      "{'_sa_instance_state': <sqlalchemy.orm.state.InstanceState object at 0x000002E060C89F28>, 'latitude': 21.45167, 'station': 'USC00519281', 'longitude': -157.84888999999998, 'name': 'WAIHEE 837.5, HI US', 'id': 7, 'elevation': 32.9}\n",
      "{'_sa_instance_state': <sqlalchemy.orm.state.InstanceState object at 0x000002E060C89FD0>, 'latitude': 21.2716, 'station': 'USC00519397', 'longitude': -157.8168, 'name': 'WAIKIKI 717.2, HI US', 'id': 1, 'elevation': 3.0}\n",
      "{'_sa_instance_state': <sqlalchemy.orm.state.InstanceState object at 0x000002E060C940B8>, 'latitude': 21.33556, 'station': 'USC00519523', 'longitude': -157.71139, 'name': 'WAIMANALO EXPERIMENTAL FARM, HI US', 'id': 6, 'elevation': 19.5}\n"
     ]
    }
   ],
   "source": [
    "for row in session.query(Station).order_by(Station.name):\n",
    "    print(row.__dict__)"
   ]
  },
  {
   "cell_type": "code",
   "execution_count": 15,
   "metadata": {},
   "outputs": [
    {
     "name": "stdout",
     "output_type": "stream",
     "text": [
      "('USC00519281', 7, 2772)\n",
      "('USC00519397', 1, 2724)\n",
      "('USC00513117', 2, 2709)\n",
      "('USC00519523', 6, 2669)\n",
      "('USC00516128', 9, 2612)\n",
      "('USC00514830', 3, 2202)\n",
      "('USC00511918', 8, 1979)\n",
      "('USC00517948', 4, 1372)\n",
      "('USC00518838', 5, 511)\n"
     ]
    }
   ],
   "source": [
    "# What are the most active stations? (i.e. what stations have the most rows)?\n",
    "# List the stations and the counts in descending order.\n",
    "station_count = session.query(Station.station, Station.id, func.count(Measurement.id).label('count')).\\\n",
    "            filter(Station.station == Measurement.station).\\\n",
    "            group_by(Station.station, Station.id).\\\n",
    "            order_by(func.count(Station.id).desc())\n",
    "for row in station_count:\n",
    "    print(row)"
   ]
  },
  {
   "cell_type": "code",
   "execution_count": 16,
   "metadata": {},
   "outputs": [],
   "source": [
    "# Using the station id from the previous query, calculate the lowest temperature recorded, \n",
    "# highest temperature recorded, and average temperature most active station?\n",
    "\n",
    "# Assumption - Most active station = Highest number of observation\n",
    "\n",
    "# get the first record as the data is in descending order\n",
    "high_stat_detail = station_count.first()\n",
    "\n",
    "# get the station name from the detail record\n",
    "high_station = high_stat_detail[0]\n",
    "station_stats = session.query(Measurement.id, func.min(Measurement.tobs).label('temp_min'), func.max(Measurement.tobs).label('temp_max'), func.avg(Measurement.tobs).label('temp_avg')).\\\n",
    "            filter(Measurement.station == high_station).\\\n",
    "            group_by(Measurement.id).all()\n",
    "\n",
    "#for row in station_stats:\n",
    "#    print(row)"
   ]
  },
  {
   "cell_type": "code",
   "execution_count": 17,
   "metadata": {},
   "outputs": [
    {
     "data": {
      "image/png": "[encoded data removed]",
      "text/plain": [
       "<Figure size 432x288 with 1 Axes>"
      ]
     },
     "metadata": {
      "needs_background": "light"
     },
     "output_type": "display_data"
    }
   ],
   "source": [
    "# Choose the station with the highest number of temperature observations.\n",
    "# Query the last 12 months of temperature observation data for this station and plot the results as a histogram\n",
    "\n",
    "# Assumption - Most active station = Highest number of observation\n",
    "\n",
    "station_data = session.query(Measurement.tobs).\\\n",
    "            filter(Measurement.station == high_station).\\\n",
    "            filter(Measurement.date >= prev_year).filter(Measurement.date <= max_date).all()\n",
    "\n",
    "tobs = list(np.ravel(station_data))\n",
    "\n",
    "fig, ax =plt.subplots()\n",
    "ax.hist(tobs, bins=12, label=\"tobs\")\n",
    "ax.legend()\n",
    "plt.ylabel(\"Frequency\")\n",
    "plt.show()"
   ]
  },
  {
   "cell_type": "markdown",
   "metadata": {},
   "source": [
    "![precipitation](Images/station-histogram.png)"
   ]
  },
  {
   "cell_type": "code",
   "execution_count": 18,
   "metadata": {},
   "outputs": [
    {
     "name": "stdout",
     "output_type": "stream",
     "text": [
      "[(62.0, 69.57142857142857, 74.0)]\n"
     ]
    }
   ],
   "source": [
    "# This function called `calc_temps` will accept start date and end date in the format '%Y-%m-%d' \n",
    "# and return the minimum, average, and maximum temperatures for that range of dates\n",
    "def calc_temps(start_date, end_date):\n",
    "    return session.query(func.min(Measurement.tobs), func.avg(Measurement.tobs), func.max(Measurement.tobs)).\\\n",
    "        filter(Measurement.date >= start_date).filter(Measurement.date <= end_date).all()\n",
    "\n",
    "# function usage example\n",
    "print(calc_temps('2012-02-28', '2012-03-05'))"
   ]
  },
  {
   "cell_type": "code",
   "execution_count": 19,
   "metadata": {},
   "outputs": [
    {
     "name": "stdout",
     "output_type": "stream",
     "text": [
      "58 74 87\n"
     ]
    }
   ],
   "source": [
    "# Use your previous function `calc_temps` to calculate the tmin, tavg, and tmax \n",
    "# for your trip using the previous year's data for those same dates.\n",
    "trip_end_date = '2018-01-01'\n",
    "year = trip_end_date[0:4]\n",
    "month = trip_end_date[5:7]\n",
    "day = trip_end_date[8:10]\n",
    "\n",
    "trip_end_date = dt.date(int(year), int(month), int(day))\n",
    "trip_start_date = trip_end_date - dt.timedelta(days=365)\n",
    "\n",
    "tobs_data = calc_temps(trip_start_date, trip_end_date)\n",
    "tobs_data = list(np.ravel(tobs_data))\n",
    "min_tobs = int(tobs_data[0])\n",
    "avg_tobs = int(tobs_data[1])\n",
    "max_tobs = int(tobs_data[2])\n",
    "print(f'{min_tobs} {avg_tobs} {max_tobs}')"
   ]
  },
  {
   "cell_type": "code",
   "execution_count": 47,
   "metadata": {},
   "outputs": [
    {
     "data": {
      "image/png": "[encoded data removed]",
      "text/plain": [
       "<Figure size 432x288 with 1 Axes>"
      ]
     },
     "metadata": {
      "needs_background": "light"
     },
     "output_type": "display_data"
    }
   ],
   "source": [
    "# Plot the results from your previous query as a bar chart. \n",
    "# Use \"Trip Avg Temp\" as your Title\n",
    "# Use the average temperature for the y value\n",
    "# Use the peak-to-peak (tmax-tmin) value as the y error bar (yerr)\n",
    "\n",
    "fig, ax = plt.subplots()\n",
    "index = 1\n",
    "bar_width = 0.1\n",
    "\n",
    "error_config = {'ecolor':'0.3'}\n",
    "\n",
    "ax.bar(index, avg_tobs, bar_width, color='b', yerr=(max_tobs - min_tobs), error_kw=error_config)\n",
    "\n",
    "ax.set_ylabel('Temp(F)')\n",
    "ax.set_title('Trip Avg Temp')\n",
    "ax.set_xlim(0.8,1.2)\n",
    "\n",
    "# plt.tight_layout()\n",
    "plt.show()"
   ]
  },
  {
   "cell_type": "code",
   "execution_count": 48,
   "metadata": {},
   "outputs": [
    {
     "data": {
      "text/html": [
       "<div>\n",
       "<style scoped>\n",
       "    .dataframe tbody tr th:only-of-type {\n",
       "        vertical-align: middle;\n",
       "    }\n",
       "\n",
       "    .dataframe tbody tr th {\n",
       "        vertical-align: top;\n",
       "    }\n",
       "\n",
       "    .dataframe thead th {\n",
       "        text-align: right;\n",
       "    }\n",
       "</style>\n",
       "<table border=\"1\" class=\"dataframe\">\n",
       "  <thead>\n",
       "    <tr style=\"text-align: right;\">\n",
       "      <th></th>\n",
       "      <th>Station_ID</th>\n",
       "      <th>Station_Name</th>\n",
       "      <th>rainfall_prcp</th>\n",
       "      <th>Station_Latitude</th>\n",
       "      <th>Station_Longitude</th>\n",
       "      <th>Station_Elevation</th>\n",
       "    </tr>\n",
       "  </thead>\n",
       "  <tbody>\n",
       "    <tr>\n",
       "      <th>0</th>\n",
       "      <td>USC00519397</td>\n",
       "      <td>WAIKIKI 717.2, HI US</td>\n",
       "      <td>2.98</td>\n",
       "      <td>21.2716</td>\n",
       "      <td>-157.8168</td>\n",
       "      <td>3.0</td>\n",
       "    </tr>\n",
       "    <tr>\n",
       "      <th>1</th>\n",
       "      <td>USC00513117</td>\n",
       "      <td>KANEOHE 838.1, HI US</td>\n",
       "      <td>2.98</td>\n",
       "      <td>21.4234</td>\n",
       "      <td>-157.8015</td>\n",
       "      <td>14.6</td>\n",
       "    </tr>\n",
       "    <tr>\n",
       "      <th>2</th>\n",
       "      <td>USC00514830</td>\n",
       "      <td>KUALOA RANCH HEADQUARTERS 886.9, HI US</td>\n",
       "      <td>2.98</td>\n",
       "      <td>21.5213</td>\n",
       "      <td>-157.8374</td>\n",
       "      <td>7.0</td>\n",
       "    </tr>\n",
       "    <tr>\n",
       "      <th>3</th>\n",
       "      <td>USC00517948</td>\n",
       "      <td>PEARL CITY, HI US</td>\n",
       "      <td>2.98</td>\n",
       "      <td>21.3934</td>\n",
       "      <td>-157.9751</td>\n",
       "      <td>11.9</td>\n",
       "    </tr>\n",
       "    <tr>\n",
       "      <th>4</th>\n",
       "      <td>USC00518838</td>\n",
       "      <td>UPPER WAHIAWA 874.3, HI US</td>\n",
       "      <td>2.98</td>\n",
       "      <td>21.4992</td>\n",
       "      <td>-158.0111</td>\n",
       "      <td>306.6</td>\n",
       "    </tr>\n",
       "  </tbody>\n",
       "</table>\n",
       "</div>"
      ],
      "text/plain": [
       "    Station_ID                            Station_Name  rainfall_prcp  \\\n",
       "0  USC00519397                    WAIKIKI 717.2, HI US           2.98   \n",
       "1  USC00513117                    KANEOHE 838.1, HI US           2.98   \n",
       "2  USC00514830  KUALOA RANCH HEADQUARTERS 886.9, HI US           2.98   \n",
       "3  USC00517948                       PEARL CITY, HI US           2.98   \n",
       "4  USC00518838              UPPER WAHIAWA 874.3, HI US           2.98   \n",
       "\n",
       "   Station_Latitude  Station_Longitude  Station_Elevation  \n",
       "0           21.2716          -157.8168                3.0  \n",
       "1           21.4234          -157.8015               14.6  \n",
       "2           21.5213          -157.8374                7.0  \n",
       "3           21.3934          -157.9751               11.9  \n",
       "4           21.4992          -158.0111              306.6  "
      ]
     },
     "execution_count": 48,
     "metadata": {},
     "output_type": "execute_result"
    }
   ],
   "source": [
    "# Calculate the rainfall per weather station for your trip dates using the previous year's matching dates.\n",
    "# Sort this in descending order by precipitation amount and list the station, name, latitude, longitude, and elevation\n",
    "\n",
    "rainfall_data = session.query(Station.station, Station.name, Measurement.prcp, Station.latitude, Station.longitude, Station.elevation).\\\n",
    "            filter(Measurement.station == high_station).\\\n",
    "            filter(Measurement.date >= prev_year).filter(Measurement.date <= max_date).\\\n",
    "            order_by(Measurement.prcp.desc()).all()\n",
    "\n",
    "rainfall_df = pd.DataFrame(rainfall_data, columns=[\"Station_ID\", \"Station_Name\", \"rainfall_prcp\", \"Station_Latitude\", \"Station_Longitude\", \"Station_Elevation\"])\n",
    "\n",
    "rainfall_df.head()"
   ]
  },
  {
   "cell_type": "markdown",
   "metadata": {},
   "source": [
    "## Optional Challenge Assignment"
   ]
  },
  {
   "cell_type": "code",
   "execution_count": 22,
   "metadata": {},
   "outputs": [
    {
     "data": {
      "text/plain": [
       "[(62.0, 69.15384615384616, 77.0)]"
      ]
     },
     "execution_count": 22,
     "metadata": {},
     "output_type": "execute_result"
    }
   ],
   "source": [
    "# Create a query that will calculate the daily normals \n",
    "# (i.e. the averages for tmin, tmax, and tavg for all historic data matching a specific month and day)\n",
    "\n",
    "def daily_normals(date):    \n",
    "    sel = [func.min(Measurement.tobs), func.avg(Measurement.tobs), func.max(Measurement.tobs)]\n",
    "    return session.query(*sel).filter(func.strftime(\"%m-%d\", Measurement.date) == date).all()\n",
    "    \n",
    "daily_normals(\"01-01\")"
   ]
  },
  {
   "cell_type": "code",
   "execution_count": 23,
   "metadata": {},
   "outputs": [],
   "source": [
    "# calculate the daily normals for your trip\n",
    "# push each tuple of calculations into a list called `normals`\n",
    "\n",
    "# Set the start and end date of the trip\n",
    "\n",
    "# Use the start and end date to create a range of dates\n",
    "\n",
    "# Stip off the year and save a list of %m-%d strings\n",
    "\n",
    "# Loop through the list of %m-%d strings and calculate the normals for each date\n"
   ]
  },
  {
   "cell_type": "code",
   "execution_count": 24,
   "metadata": {},
   "outputs": [],
   "source": [
    "# Load the previous query results into a Pandas DataFrame and add the `trip_dates` range as the `date` index\n"
   ]
  },
  {
   "cell_type": "code",
   "execution_count": 25,
   "metadata": {},
   "outputs": [],
   "source": [
    "# Plot the daily normals as an area plot with `stacked=False`\n"
   ]
  }
 ],
 "metadata": {
  "kernel_info": {
   "name": "python3"
  },
  "kernelspec": {
   "display_name": "Python 3",
   "language": "python",
   "name": "python3"
  },
  "language_info": {
   "codemirror_mode": {
    "name": "ipython",
    "version": 3
   },
   "file_extension": ".py",
   "mimetype": "text/x-python",
   "name": "python",
   "nbconvert_exporter": "python",
   "pygments_lexer": "ipython3",
   "version": "3.6.6"
  },
  "nteract": {
   "version": "0.9.1"
  },
  "varInspector": {
   "cols": {
    "lenName": 16,
    "lenType": 16,
    "lenVar": 40
   },
   "kernels_config": {
    "python": {
     "delete_cmd_postfix": "",
     "delete_cmd_prefix": "del ",
     "library": "var_list.py",
     "varRefreshCmd": "print(var_dic_list())"
    },
    "r": {
     "delete_cmd_postfix": ") ",
     "delete_cmd_prefix": "rm(",
     "library": "var_list.r",
     "varRefreshCmd": "cat(var_dic_list()) "
    }
   },
   "types_to_exclude": [
    "module",
    "function",
    "builtin_function_or_method",
    "instance",
    "_Feature"
   ],
   "window_display": false
  }
 },
 "nbformat": 4,
 "nbformat_minor": 2
}
